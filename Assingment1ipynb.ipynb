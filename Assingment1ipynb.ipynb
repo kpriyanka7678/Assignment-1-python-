{
  "nbformat": 4,
  "nbformat_minor": 0,
  "metadata": {
    "colab": {
      "provenance": []
    },
    "kernelspec": {
      "name": "python3",
      "display_name": "Python 3"
    },
    "language_info": {
      "name": "python"
    }
  },
  "cells": [
    {
      "cell_type": "markdown",
      "source": [
        "#  **THEORY** **QUESTIONS**"
      ],
      "metadata": {
        "id": "zKrABEcsU5Ga"
      }
    },
    {
      "cell_type": "markdown",
      "source": [
        "**QUES1** What is python?and why it is popular\n",
        "**ans->**Python is high-level programmming language that is used to create software, websites,apps ,games ans artificial intelligence and it was created by Gudio van rossum realeases in the year 1991.\n",
        "->it is popular becoz:-\n",
        "1. Easy to learn and use\n",
        "2. Versatile\n",
        "3. Lots of libraries and tools\n",
        "4. Used by big companies\n",
        "5. Cross platform language\n",
        "\n",
        "**QUES2**What is an interpreter in Python?\n",
        "**ans->**An interpreter in python is a special program that reads your code one line at a time understands it, and then makes the computer perform the instructions you have written.\n",
        "python is called interpreted language because it uses an interpreter to run the code,instead of coverting the entire program into machine language.\n",
        "\n",
        "**QUES3**What are pre-defined keywords in Python?\n",
        "**ans->**Pre-defined keywords in computers, especially in programming languages, there are special words that have fixed meanings,they are pre-reserved words.These words are already defined by the programming language itself,and you cannot use them for any purpose, we can not change them ,and you can't use them and we can't use them to name our variables.\n",
        "some of the pre-defined words are:-\n",
        "for,else,while,true,false etc.\n",
        "\n",
        "**QUES4**Can keywords be used as variable names?\n",
        "**ans->** NO,Keywords can not be used as variable names in python.Keywords are special words that have a specific meaning in their language.\n",
        "some of the key words are:- break.continue,except, import etc.\n",
        "If we use keywords as a variable name then it will give an error.\n",
        "\n",
        "**QUES5**What is mutability in Python?\n",
        "**ans-> **Mutability in python means the ability to change the value and contents of an object after it has been created.\n",
        "if something is mutable you can change it like editing in a document.\n",
        "In python everything is an object- numbers, list,strings etc. But not all objects have the same way when you try to change them.some we can changed that's called mutable while others can't that's immutable.\n",
        "\n",
        "**QUES6** Why are lists mutable, but tuples are immutable?\n",
        "**ans->**Python's creators made list mutuable and tuples immutable on purpose,based on what each data type is supposed to be used for.\n",
        "Lists are mutuable because they are used to store changing data.\n",
        "For ex- .A shopping cart, a to-do list ,a playlist etc.\n",
        "These things are always changing, so we need a data type where we can easily add,remove or modify items.\n",
        "Tuples are immutable because they are meant for fixed, trusted data.\n",
        "they are used when you want to lock the data to make sure it doesn't acccidentaly changed ,they are safer when you don't want the data to be edited.\n",
        "\n",
        "**QUES7**What is the difference between “==” and “is” operators in Python?\n",
        "**ans->**The \"==\" operator is used to compaare the values of the two varaiables.\n",
        "It checks if the data is stored inside the variables is the same,even if the variables are stored at different locations in memory.it does't care about the memory address or identify of the objects.\n",
        "The \"is\" operator is used to check whether two variables refer to the same object in the memory.It checks if both variables point to the exact same memory location.So,even if two variables have the same value,'is' can return False if they are diffrent objects.\n",
        "\n",
        "**QUES8**What are logical operators in Python?\n",
        "**ans->**Logical operators in python are used to combine two or more conditions and make decisions based on whether those conditions are True or False.\n",
        "There are 3 logical operators in python:-\n",
        "AND- True only if both conditions are True\n",
        "OR - True if atleast one condition is True\n",
        "NOT- Reverse the result (True becomes False,and False becomes True).\n",
        "\n",
        "**QUES9**What is type casting in Python?\n",
        "**ans->** In python type casting means converting one data type in another like a number into a string, a string into an integer, a float into an integer etc...\n",
        "Sometimes you want to compare values of different types.But python doesn't allow operations between incompatible types directly.So, you have to convert tem using type casting.\n",
        "There are two types of type casting:-\n",
        "1. Implicit type-casting\n",
        "2. Explicit type-casting\n",
        "\n",
        "**QUES10**What is the difference between implicit and explicit type casting?\n",
        "**ans->** 1. Implicit type casting :-Pyhon automatically converts one data type to another when needed.It usually happens when you mix different types in an operation.Python takes care of the conversion when it knows the transformation is safe and won't lose information or cause an error.\n",
        "\n",
        "2. Explicit type casting :-In explicit type caste casting, we manually convert one data type into another.This is done by using Python's built in type-functions. The programmer takes control and tells python exactly how to convert one type to another. This is useful when the types are not automatically converted, or when you want to avoid errors in operations involving diffrent types.\n",
        "\n",
        "**QUES11**What is the purpose of conditional statements in Python?\n",
        "**ans->** Conditional statements act like decision-makers in a program. They check whether a specific condition is true. If it is true, the program follows one path; if it is false, it may follow another path or do nothing at all. This allows the program to behave differently based on the input or current state of the system.\n",
        "Python provides the following conditional statements:\n",
        "1. if statement :- It runs a block of code only if the condition is true.\n",
        "2. if-else statement :- It runs one block of code if the condition is true, and another block if it is false.\n",
        "3. if-elif-else statement :- It checks multiple conditions in sequence and executes the block for the first condition that is true.\n",
        "\n",
        "**QUES12**How does the elif statement work?\n",
        "**ans->**When a program encounters an if-elif-else structure, it evaluates each condition in order from top to bottom:\n",
        "1.The program first checks the condition written in the 'if' statement.\n",
        "2.If the 'if' condition is True, the corresponding block of code runs, and the rest of the conditions ('elif' and 'else') are skipped.\n",
        "3.If the 'if' condition is False, then the program checks the condition in the 'elif' statement.\n",
        "4.If the 'elif' condition is True, its block of code runs, and the rest is skipped.\n",
        "5.If none of the 'if' or 'elif' conditions are true, the program moves to the else block ('if' it exists) and executes that.\n",
        "\n",
        "**QUES13** What is the difference between for and while loops?\n",
        "**ans->**1. Definition:\n",
        "A for loop is a control flow statement that is used when the number of iterations is known in advance. It is generally used to iterate over a sequence (such as a list, string, tuple, or range).\n",
        "A while loop is a control flow statement that is used when the number of iterations is not known beforehand. It continues to execute the block of code as long as the specified condition remains true.\n",
        "2. Loop Control:\n",
        "In a for loop, the control is based on a sequence or an iterator. The loop automatically moves to the next element after each iteration until the sequence ends.\n",
        "In a while loop, the control is based on a Boolean condition. The loop will continue executing until the condition becomes false.\n",
        "3. Condition Evaluation:\n",
        "The condition in a for loop is implicit, as it depends on the end of the sequence.\n",
        "The condition in a while loop is explicit, and it is evaluated before each iteration.\n",
        "4. Termination:\n",
        "A for loop automatically stops when it has looped through all the elements in the sequence.\n",
        "A while loop continues indefinitely unless the condition becomes false or a break statement is used.\n",
        "5. Use Case:\n",
        "Use a for loop when the number of repetitions is fixed or countable.\n",
        "Use a while loop when the number of repetitions is dependent on a condition that is evaluated during the execution of the loop.\n",
        "\n",
        "**QUES14** Describe a scenario where a while loop is more suitable than a for loop.\n",
        "**ans->**A while loop is more suitable than a for loop in situations where the number of iterations is not known in advance and depends on a dynamic or unpredictable condition that is evaluated during runtime.\n",
        "1.In this scenario, the program does not know how many times it will need to prompt the user.\n",
        "2.The loop should run as long as the user's input is not \"exit\".\n",
        "3.This kind of condition checking is better handled by a while loop because it allows the program to dynamically respond to the condition during each iteration.\n",
        "\n",
        "\n",
        "\n",
        "\n",
        "\n",
        "\n",
        "\n",
        "\n",
        "\n",
        "\n"
      ],
      "metadata": {
        "id": "97Sj8z_4zQK5"
      }
    },
    {
      "cell_type": "markdown",
      "source": [
        "# **PRACRICAL QUESTIONS**"
      ],
      "metadata": {
        "id": "mTHFSw-r-Gvg"
      }
    },
    {
      "cell_type": "code",
      "source": [
        "#Ques no.1\n",
        "a= \"Hello, World!\"\n",
        "print(a)"
      ],
      "metadata": {
        "colab": {
          "base_uri": "https://localhost:8080/"
        },
        "id": "SjCLecHn-Fbg",
        "outputId": "07e62a79-97ec-4c5d-bc07-799aca57f270"
      },
      "execution_count": null,
      "outputs": [
        {
          "output_type": "stream",
          "name": "stdout",
          "text": [
            "Hello, World!\n"
          ]
        }
      ]
    },
    {
      "cell_type": "code",
      "source": [
        "#Ques no.2\n",
        "name =\"priya\"\n",
        "age = 20\n",
        "print(f\"my name is {name} and my age is {age})\")"
      ],
      "metadata": {
        "id": "YrMEuJ9A-FYa",
        "colab": {
          "base_uri": "https://localhost:8080/"
        },
        "outputId": "d570c13b-5dea-4545-8ffd-7382350b7fb6"
      },
      "execution_count": null,
      "outputs": [
        {
          "output_type": "stream",
          "name": "stdout",
          "text": [
            "my name is priya and my age is 20)\n"
          ]
        }
      ]
    },
    {
      "cell_type": "code",
      "execution_count": null,
      "metadata": {
        "colab": {
          "base_uri": "https://localhost:8080/"
        },
        "id": "iAdU2hzmzKIU",
        "outputId": "383aaf65-0762-4645-dfa0-bd18b9ae9737"
      },
      "outputs": [
        {
          "output_type": "stream",
          "name": "stdout",
          "text": [
            "\n",
            "Here is a list of the Python keywords.  Enter any keyword to get more help.\n",
            "\n",
            "False               class               from                or\n",
            "None                continue            global              pass\n",
            "True                def                 if                  raise\n",
            "and                 del                 import              return\n",
            "as                  elif                in                  try\n",
            "assert              else                is                  while\n",
            "async               except              lambda              with\n",
            "await               finally             nonlocal            yield\n",
            "break               for                 not                 \n",
            "\n"
          ]
        }
      ],
      "source": [
        "#Ques no.3\n",
        "import keyword\n",
        "print(keyword.kwlist)\n",
        "#OR\n",
        "help(\"keywords\")"
      ]
    },
    {
      "cell_type": "code",
      "source": [
        "#Ques no.4\n",
        "keyword.iskeyword(\"break\")"
      ],
      "metadata": {
        "id": "YO9AN9zjzL8i",
        "colab": {
          "base_uri": "https://localhost:8080/"
        },
        "outputId": "73570ece-94b7-4b38-8e3d-340540bc0621"
      },
      "execution_count": null,
      "outputs": [
        {
          "output_type": "execute_result",
          "data": {
            "text/plain": [
              "True"
            ]
          },
          "metadata": {},
          "execution_count": 23
        }
      ]
    },
    {
      "cell_type": "code",
      "source": [
        "keyword.iskeyword(\"priya\")"
      ],
      "metadata": {
        "colab": {
          "base_uri": "https://localhost:8080/"
        },
        "id": "63lHd_mFDRXX",
        "outputId": "93252dd4-eb0b-42be-e688-cacfab798c91"
      },
      "execution_count": null,
      "outputs": [
        {
          "output_type": "execute_result",
          "data": {
            "text/plain": [
              "False"
            ]
          },
          "metadata": {},
          "execution_count": 24
        }
      ]
    },
    {
      "cell_type": "code",
      "source": [
        "#Ques no.5\n",
        "a =[10,20,30]\n",
        "b =(10,20,30)\n",
        "print(a)\n",
        "print(b)"
      ],
      "metadata": {
        "colab": {
          "base_uri": "https://localhost:8080/"
        },
        "id": "TxVNICQsDRk3",
        "outputId": "bad5e905-f857-4abd-ec5c-420e27dc99a8"
      },
      "execution_count": null,
      "outputs": [
        {
          "output_type": "stream",
          "name": "stdout",
          "text": [
            "[10, 20, 30]\n",
            "(10, 20, 30)\n"
          ]
        }
      ]
    },
    {
      "cell_type": "code",
      "source": [
        "a[1]=15\n",
        "print(a)"
      ],
      "metadata": {
        "colab": {
          "base_uri": "https://localhost:8080/"
        },
        "id": "C7NlJLtfDRmZ",
        "outputId": "0bd96877-9862-4a0e-df6b-588739ce219b"
      },
      "execution_count": null,
      "outputs": [
        {
          "output_type": "stream",
          "name": "stdout",
          "text": [
            "[10, 15, 30]\n"
          ]
        }
      ]
    },
    {
      "cell_type": "code",
      "source": [
        "b[0]=5"
      ],
      "metadata": {
        "colab": {
          "base_uri": "https://localhost:8080/",
          "height": 141
        },
        "id": "x7eJCnteDRo0",
        "outputId": "2f83895a-5a19-446e-9a81-903895cfec2d"
      },
      "execution_count": null,
      "outputs": [
        {
          "output_type": "error",
          "ename": "TypeError",
          "evalue": "'tuple' object does not support item assignment",
          "traceback": [
            "\u001b[0;31m---------------------------------------------------------------------------\u001b[0m",
            "\u001b[0;31mTypeError\u001b[0m                                 Traceback (most recent call last)",
            "\u001b[0;32m/tmp/ipython-input-37-2497553810.py\u001b[0m in \u001b[0;36m<cell line: 0>\u001b[0;34m()\u001b[0m\n\u001b[0;32m----> 1\u001b[0;31m \u001b[0mb\u001b[0m\u001b[0;34m[\u001b[0m\u001b[0;36m0\u001b[0m\u001b[0;34m]\u001b[0m\u001b[0;34m=\u001b[0m\u001b[0;36m5\u001b[0m\u001b[0;34m\u001b[0m\u001b[0;34m\u001b[0m\u001b[0m\n\u001b[0m",
            "\u001b[0;31mTypeError\u001b[0m: 'tuple' object does not support item assignment"
          ]
        }
      ]
    },
    {
      "cell_type": "code",
      "source": [
        "#Ques no.6\n",
        "# mutable(list is mutable)\n",
        "a=[30,40,50]\n",
        "a[0]=20\n",
        "print(a)\n",
        "# immutable(string is immutable)\n",
        "b=(\"pwskills\")\n",
        "b[0]=b"
      ],
      "metadata": {
        "colab": {
          "base_uri": "https://localhost:8080/",
          "height": 193
        },
        "id": "mqhD6-zoDRsH",
        "outputId": "a4339c11-0cff-4a4b-9082-3e93b5548336"
      },
      "execution_count": null,
      "outputs": [
        {
          "output_type": "stream",
          "name": "stdout",
          "text": [
            "[20, 40, 50]\n"
          ]
        },
        {
          "output_type": "error",
          "ename": "TypeError",
          "evalue": "'str' object does not support item assignment",
          "traceback": [
            "\u001b[0;31m---------------------------------------------------------------------------\u001b[0m",
            "\u001b[0;31mTypeError\u001b[0m                                 Traceback (most recent call last)",
            "\u001b[0;32m/tmp/ipython-input-48-1508078735.py\u001b[0m in \u001b[0;36m<cell line: 0>\u001b[0;34m()\u001b[0m\n\u001b[1;32m      6\u001b[0m \u001b[0;31m# immutable\u001b[0m\u001b[0;34m\u001b[0m\u001b[0;34m\u001b[0m\u001b[0m\n\u001b[1;32m      7\u001b[0m \u001b[0mb\u001b[0m\u001b[0;34m=\u001b[0m\u001b[0;34m(\u001b[0m\u001b[0;34m\"pwskills\"\u001b[0m\u001b[0;34m)\u001b[0m\u001b[0;34m\u001b[0m\u001b[0;34m\u001b[0m\u001b[0m\n\u001b[0;32m----> 8\u001b[0;31m \u001b[0mb\u001b[0m\u001b[0;34m[\u001b[0m\u001b[0;36m0\u001b[0m\u001b[0;34m]\u001b[0m\u001b[0;34m=\u001b[0m\u001b[0mb\u001b[0m\u001b[0;34m\u001b[0m\u001b[0;34m\u001b[0m\u001b[0m\n\u001b[0m",
            "\u001b[0;31mTypeError\u001b[0m: 'str' object does not support item assignment"
          ]
        }
      ]
    },
    {
      "cell_type": "code",
      "source": [
        "#Ques no.7\n",
        "num1 = int(input(\"enter a num1\"))\n",
        "num2 = int(input(\"enter a num2\"))\n",
        "result1 = num1 + num2\n",
        "print(result1)\n",
        "result2 = num1 - num2\n",
        "print(result2)\n",
        "result3 = num1 * num2\n",
        "print(result3)\n",
        "result4 = num1 / num2\n",
        "print(result4)\n"
      ],
      "metadata": {
        "colab": {
          "base_uri": "https://localhost:8080/"
        },
        "id": "emLVL7lMGr5X",
        "outputId": "b089dbfe-1e96-42bd-ff1e-64a95acf8648"
      },
      "execution_count": null,
      "outputs": [
        {
          "output_type": "stream",
          "name": "stdout",
          "text": [
            "enter a num1 60\n",
            "enter a num2  40\n",
            "100\n",
            "20\n",
            "2400\n",
            "1.5\n"
          ]
        }
      ]
    },
    {
      "cell_type": "code",
      "source": [
        "#Ques no.8\n",
        "#AND\n",
        "a = 5\n",
        "b = 4\n",
        "print(a<4 and b==5)\n",
        "#OR\n",
        "print(a<4 or b==4)\n",
        "#NOT\n",
        "print(not(a<4 and b==5))"
      ],
      "metadata": {
        "colab": {
          "base_uri": "https://localhost:8080/"
        },
        "id": "3yWp3QJ7MMfQ",
        "outputId": "2dd62351-c4f8-4e57-ddb3-e2980f3125d6"
      },
      "execution_count": null,
      "outputs": [
        {
          "output_type": "stream",
          "name": "stdout",
          "text": [
            "False\n",
            "True\n",
            "True\n"
          ]
        }
      ]
    },
    {
      "cell_type": "code",
      "source": [
        "#Ques no.9\n",
        "user = input(\"enter a valiue:\")\n",
        "type(user)"
      ],
      "metadata": {
        "colab": {
          "base_uri": "https://localhost:8080/"
        },
        "id": "Ld7jo-ZMIlUG",
        "outputId": "477a1c95-cff3-4ea8-e857-4301ac82205d"
      },
      "execution_count": null,
      "outputs": [
        {
          "name": "stdout",
          "output_type": "stream",
          "text": [
            "enter a valiue: 40\n"
          ]
        },
        {
          "output_type": "execute_result",
          "data": {
            "text/plain": [
              "str"
            ]
          },
          "metadata": {},
          "execution_count": 5
        }
      ]
    },
    {
      "cell_type": "code",
      "source": [
        "int_value = int(user)\n",
        "print(int_value)"
      ],
      "metadata": {
        "colab": {
          "base_uri": "https://localhost:8080/"
        },
        "id": "1RcPrZ0DTBLu",
        "outputId": "cf9bc422-7699-43cf-c72e-a58cc0c891d4"
      },
      "execution_count": null,
      "outputs": [
        {
          "output_type": "stream",
          "name": "stdout",
          "text": [
            "40\n"
          ]
        }
      ]
    },
    {
      "cell_type": "code",
      "source": [
        "float_value = float(user)\n",
        "print(float_value)"
      ],
      "metadata": {
        "colab": {
          "base_uri": "https://localhost:8080/"
        },
        "id": "TmjTC1laH_qY",
        "outputId": "9d0b6957-a311-4bcb-eb1c-379c8036c7a3"
      },
      "execution_count": null,
      "outputs": [
        {
          "output_type": "stream",
          "name": "stdout",
          "text": [
            "40.0\n"
          ]
        }
      ]
    },
    {
      "cell_type": "code",
      "source": [
        "bool_value = bool(user)\n",
        "print(bool_value)"
      ],
      "metadata": {
        "colab": {
          "base_uri": "https://localhost:8080/"
        },
        "id": "JRAwvcBPS7J6",
        "outputId": "3924fdb2-b7e8-463d-a998-dd58c40fb588"
      },
      "execution_count": null,
      "outputs": [
        {
          "output_type": "stream",
          "name": "stdout",
          "text": [
            "True\n"
          ]
        }
      ]
    },
    {
      "cell_type": "code",
      "source": [
        "#Ques no.10\n",
        "str_list = [\"10\", \"20\", \"30\", \"40\"]\n",
        "print(str_list)\n",
        "type(str_list)"
      ],
      "metadata": {
        "colab": {
          "base_uri": "https://localhost:8080/"
        },
        "id": "b9A6OEFEPs9D",
        "outputId": "596fddf2-7a16-4db7-95bc-adc9cf3393f2"
      },
      "execution_count": null,
      "outputs": [
        {
          "output_type": "stream",
          "name": "stdout",
          "text": [
            "['10', '20', '30', '40']\n"
          ]
        },
        {
          "output_type": "execute_result",
          "data": {
            "text/plain": [
              "list"
            ]
          },
          "metadata": {},
          "execution_count": 2
        }
      ]
    },
    {
      "cell_type": "code",
      "source": [
        "int_list = [int(item) for item in str_list]\n",
        "print(int_list)"
      ],
      "metadata": {
        "colab": {
          "base_uri": "https://localhost:8080/"
        },
        "id": "dKntNiguTNI2",
        "outputId": "8324046b-52a5-4c3b-ca33-41a975d4cf3f"
      },
      "execution_count": null,
      "outputs": [
        {
          "output_type": "stream",
          "name": "stdout",
          "text": [
            "[10, 20, 30, 40]\n"
          ]
        }
      ]
    },
    {
      "cell_type": "code",
      "source": [
        "float_list = [float(item) for item in str_list]\n",
        "print(float_list)"
      ],
      "metadata": {
        "colab": {
          "base_uri": "https://localhost:8080/"
        },
        "id": "jeWkEfyoGFjW",
        "outputId": "85ff70a7-4fc4-4022-c83a-b42cfb3bf803"
      },
      "execution_count": null,
      "outputs": [
        {
          "output_type": "stream",
          "name": "stdout",
          "text": [
            "[10.0, 20.0, 30.0]\n"
          ]
        }
      ]
    },
    {
      "cell_type": "code",
      "source": [
        "bool_list = [bool(item) for item in str_list]\n",
        "print(bool_list)\n"
      ],
      "metadata": {
        "colab": {
          "base_uri": "https://localhost:8080/"
        },
        "id": "Qebmlck0G5BG",
        "outputId": "69426c67-6251-4a8e-84c0-db031c7c5767"
      },
      "execution_count": null,
      "outputs": [
        {
          "output_type": "stream",
          "name": "stdout",
          "text": [
            "[True, True, True]\n"
          ]
        }
      ]
    },
    {
      "cell_type": "code",
      "source": [
        "#Ques no.11\n",
        "num = float(input(\"enter the no\"))\n",
        "if num >= 5:\n",
        "  print(\"positive\")\n",
        "elif num < 5:\n",
        "  print(\"negative\")\n",
        "else:\n",
        "  print(\"zero\")"
      ],
      "metadata": {
        "colab": {
          "base_uri": "https://localhost:8080/"
        },
        "id": "eK05mgu7PEf4",
        "outputId": "6a5fdd2c-7546-4002-acdf-bd3038dbdb9a"
      },
      "execution_count": null,
      "outputs": [
        {
          "output_type": "stream",
          "name": "stdout",
          "text": [
            "enter the no 4\n",
            "negative\n"
          ]
        }
      ]
    },
    {
      "cell_type": "code",
      "source": [
        "#Ques no.12\n",
        "for a in range(1,11):\n",
        "  print(a)"
      ],
      "metadata": {
        "colab": {
          "base_uri": "https://localhost:8080/"
        },
        "id": "WLU2WJZzg91s",
        "outputId": "8e736100-3d18-4cbd-92c1-a889e4bf0628"
      },
      "execution_count": null,
      "outputs": [
        {
          "output_type": "stream",
          "name": "stdout",
          "text": [
            "1\n",
            "2\n",
            "3\n",
            "4\n",
            "5\n",
            "6\n",
            "7\n",
            "8\n",
            "9\n",
            "10\n"
          ]
        }
      ]
    },
    {
      "cell_type": "code",
      "source": [
        "#Ques no.13\n",
        "even_sum=0\n",
        "for num in range(1, 51):\n",
        "    if num % 2 == 0:\n",
        "        even_sum += num\n",
        "        print(even_sum)"
      ],
      "metadata": {
        "colab": {
          "base_uri": "https://localhost:8080/"
        },
        "id": "OcOp9QSkmThp",
        "outputId": "9435534b-1ff6-4510-e2f4-385728559d36"
      },
      "execution_count": null,
      "outputs": [
        {
          "output_type": "stream",
          "name": "stdout",
          "text": [
            "2\n",
            "6\n",
            "12\n",
            "20\n",
            "30\n",
            "42\n",
            "56\n",
            "72\n",
            "90\n",
            "110\n",
            "132\n",
            "156\n",
            "182\n",
            "210\n",
            "240\n",
            "272\n",
            "306\n",
            "342\n",
            "380\n",
            "420\n",
            "462\n",
            "506\n",
            "552\n",
            "600\n",
            "650\n"
          ]
        }
      ]
    },
    {
      "cell_type": "code",
      "source": [
        "#Ques no.14\n",
        "text = input(\"Enter a string: \")\n",
        "reversed_text = \"\"\n",
        "index = len(text) - 1\n",
        "while index >= 0:\n",
        "    reversed_text += text[index]\n",
        "    index -= 1\n",
        "print( reversed_text)"
      ],
      "metadata": {
        "colab": {
          "base_uri": "https://localhost:8080/"
        },
        "id": "Q8iZ4rb6MQeA",
        "outputId": "6654a99f-d21f-4c91-8d29-321ebf52514a"
      },
      "execution_count": null,
      "outputs": [
        {
          "output_type": "stream",
          "name": "stdout",
          "text": [
            "Enter a string:  priyanka\n",
            "aknayirp \n"
          ]
        }
      ]
    },
    {
      "cell_type": "code",
      "source": [
        "#Ques no.15\n",
        "num = int(input(\"Enter a number:\"))\n",
        "factorial =1\n",
        "n=num\n",
        "\n",
        "while n > 0:\n",
        "   factorial=factorial*n\n",
        "   n=n-1\n",
        "print(factorial)"
      ],
      "metadata": {
        "colab": {
          "base_uri": "https://localhost:8080/"
        },
        "id": "qB75Mo8SdVkA",
        "outputId": "251a442c-e6bd-4b54-b9fd-f37c6f55016f"
      },
      "execution_count": null,
      "outputs": [
        {
          "output_type": "stream",
          "name": "stdout",
          "text": [
            "Enter a number:6\n",
            "720\n"
          ]
        }
      ]
    },
    {
      "cell_type": "code",
      "source": [],
      "metadata": {
        "id": "MpH8lKS8MEt_"
      },
      "execution_count": null,
      "outputs": []
    },
    {
      "cell_type": "code",
      "source": [],
      "metadata": {
        "id": "y3A9bN5MMHWu"
      },
      "execution_count": null,
      "outputs": []
    },
    {
      "cell_type": "code",
      "source": [],
      "metadata": {
        "id": "-1H5WJ0EL_Ar"
      },
      "execution_count": null,
      "outputs": []
    },
    {
      "cell_type": "code",
      "source": [],
      "metadata": {
        "id": "5J8_U3R9L2mr"
      },
      "execution_count": null,
      "outputs": []
    },
    {
      "cell_type": "code",
      "source": [],
      "metadata": {
        "id": "TARXPUF0L4wF"
      },
      "execution_count": null,
      "outputs": []
    },
    {
      "cell_type": "code",
      "source": [],
      "metadata": {
        "id": "lK0KnPM3L7Vu"
      },
      "execution_count": null,
      "outputs": []
    },
    {
      "cell_type": "code",
      "source": [],
      "metadata": {
        "id": "hH8MKeG3JUUo"
      },
      "execution_count": null,
      "outputs": []
    },
    {
      "cell_type": "code",
      "source": [],
      "metadata": {
        "id": "0UnKtFSEJSo-"
      },
      "execution_count": null,
      "outputs": []
    },
    {
      "cell_type": "code",
      "source": [],
      "metadata": {
        "id": "dYTcVSHaJNzo"
      },
      "execution_count": null,
      "outputs": []
    },
    {
      "cell_type": "code",
      "source": [],
      "metadata": {
        "id": "3cr_w64RJGWK"
      },
      "execution_count": null,
      "outputs": []
    },
    {
      "cell_type": "code",
      "source": [],
      "metadata": {
        "id": "_GUCmG8xI3Q9"
      },
      "execution_count": null,
      "outputs": []
    },
    {
      "cell_type": "code",
      "source": [],
      "metadata": {
        "id": "-I5z5faDI5PV"
      },
      "execution_count": null,
      "outputs": []
    },
    {
      "cell_type": "code",
      "source": [],
      "metadata": {
        "id": "8c3UMAUYIQJH"
      },
      "execution_count": null,
      "outputs": []
    },
    {
      "cell_type": "code",
      "source": [],
      "metadata": {
        "id": "nfSYeZWkGmK7"
      },
      "execution_count": null,
      "outputs": []
    },
    {
      "cell_type": "code",
      "source": [],
      "metadata": {
        "id": "VhXEpQf1Gdkg"
      },
      "execution_count": null,
      "outputs": []
    },
    {
      "cell_type": "code",
      "source": [],
      "metadata": {
        "id": "udEzIn_oDRz-"
      },
      "execution_count": null,
      "outputs": []
    },
    {
      "cell_type": "code",
      "source": [],
      "metadata": {
        "id": "BwCx-sNRDR4r"
      },
      "execution_count": null,
      "outputs": []
    }
  ]
}